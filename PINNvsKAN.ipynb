{
 "cells": [
  {
   "cell_type": "code",
   "execution_count": 1,
   "id": "9b1a9c1c-3f55-4fd4-8091-7dd6054369e7",
   "metadata": {},
   "outputs": [],
   "source": [
    "import torch\n",
    "import torch.nn as nn\n",
    "import numpy as np\n",
    "import matplotlib.pyplot as plt\n",
    "from kan import KAN\n",
    "device = \"cuda\""
   ]
  },
  {
   "cell_type": "code",
   "execution_count": 11,
   "id": "60b93d34-8141-466c-bc59-920d9a4cea17",
   "metadata": {},
   "outputs": [],
   "source": [
    "def true_solution(t):\n",
    "    return torch.exp(-t)\n",
    "\n",
    "class MLP(nn.Module):\n",
    "    def __init__(self):\n",
    "        super().__init__()\n",
    "        self.net = nn.Sequential(\n",
    "            nn.Linear(1, 3),\n",
    "            nn.Tanh(),\n",
    "            nn.Linear(3, 3),\n",
    "            nn.Tanh(),\n",
    "            nn.Linear(3, 1)\n",
    "        )\n",
    "\n",
    "    def forward(self, x):\n",
    "        return self.net(x)\n",
    "\n",
    "class KANWrapper(nn.Module):\n",
    "    def __init__(self):\n",
    "        super().__init__()\n",
    "        self.net = KAN(width=[1,3,3,1], grid=3, k=3, seed=42)\n",
    "\n",
    "    def forward(self, x):\n",
    "        return self.net(x)\n"
   ]
  },
  {
   "cell_type": "code",
   "execution_count": 22,
   "id": "bbf58d72-0610-46f7-bc1e-4a81bb38ab07",
   "metadata": {},
   "outputs": [],
   "source": [
    "\n",
    "def pinn_loss(model, t_domain, initial_point):\n",
    "    t_domain.requires_grad_(True)\n",
    "    y_pred = model(t_domain)\n",
    "\n",
    "    dy_dt = torch.autograd.grad(y_pred.sum(), t_domain, create_graph=True)[0]\n",
    "\n",
    "    eq_loss = torch.mean((dy_dt + y_pred)**2)\n",
    "    ic_loss = (model(initial_point) - 1.0)**2\n",
    "    return eq_loss + ic_loss"
   ]
  },
  {
   "cell_type": "code",
   "execution_count": null,
   "id": "9d6f35ce-9ea1-46fa-b891-0f7f7d431aa3",
   "metadata": {},
   "outputs": [
    {
     "name": "stdout",
     "output_type": "stream",
     "text": [
      "Training MLP model...\n",
      "MLP Epoch 0, Loss: 0.215121\n",
      "MLP Epoch 200, Loss: 0.018174\n",
      "MLP Epoch 400, Loss: 0.006078\n",
      "MLP Epoch 600, Loss: 0.002635\n",
      "MLP Epoch 800, Loss: 0.001256\n",
      "MLP Epoch 1000, Loss: 0.000621\n",
      "MLP Epoch 1200, Loss: 0.000323\n",
      "MLP Epoch 1400, Loss: 0.000187\n",
      "MLP Epoch 1600, Loss: 0.000123\n",
      "MLP Epoch 1800, Loss: 0.000089\n",
      "MLP Epoch 2000, Loss: 0.000070\n",
      "MLP Epoch 2200, Loss: 0.000057\n",
      "MLP Epoch 2400, Loss: 0.000049\n",
      "checkpoint directory created: ./model\n",
      "saving model version 0.0\n",
      "\n",
      "Training KAN model...\n",
      "KAN Epoch 0, Loss: 1.153420\n",
      "KAN Epoch 200, Loss: 0.037632\n",
      "KAN Epoch 400, Loss: 0.001827\n",
      "KAN Epoch 600, Loss: 0.000552\n",
      "KAN Epoch 800, Loss: 0.000237\n",
      "KAN Epoch 1000, Loss: 0.000114\n",
      "KAN Epoch 1200, Loss: 0.000067\n",
      "KAN Epoch 1400, Loss: 0.000046\n"
     ]
    }
   ],
   "source": [
    "\n",
    "# Подготовка данных\n",
    "t = torch.linspace(0, 5, 100).reshape(-1, 1)\n",
    "initial_point = torch.tensor([[0.0]])\n",
    "\n",
    "# Обучение MLP\n",
    "mlp_model = MLP()\n",
    "mlp_optimizer = torch.optim.Adam(mlp_model.parameters(), lr=0.001)\n",
    "\n",
    "epoch_num = 2500\n",
    "epoch_print_interval = 200\n",
    "\n",
    "print(\"Training MLP model...\")\n",
    "for epoch in range(epoch_num):\n",
    "    mlp_optimizer.zero_grad()\n",
    "    loss = pinn_loss(mlp_model, t, initial_point)\n",
    "    loss.backward()\n",
    "    mlp_optimizer.step()\n",
    "    if epoch % epoch_print_interval == 0:\n",
    "        print(f'MLP Epoch {epoch}, Loss: {loss.item():.6f}')\n",
    "\n",
    "# Обучение KAN\n",
    "kan_model = KANWrapper()\n",
    "kan_optimizer = torch.optim.Adam(kan_model.parameters(), lr=0.001)\n",
    "\n",
    "print(\"\\nTraining KAN model...\")\n",
    "for epoch in range(epoch_num):\n",
    "    kan_optimizer.zero_grad()\n",
    "    loss = pinn_loss(kan_model, t, initial_point)\n",
    "    loss.backward()\n",
    "    kan_optimizer.step()\n",
    "    if epoch % epoch_print_interval == 0:\n",
    "        print(f'KAN Epoch {epoch}, Loss: {loss.item():.6f}')\n",
    "\n",
    "# Визуализация результатов\n",
    "t_numpy = t.detach().cpu().numpy()\n",
    "y_true = true_solution(t).detach().cpu().numpy()\n",
    "y_mlp = mlp_model(t).detach().cpu().numpy()\n",
    "y_kan = kan_model(t).detach().cpu().numpy()\n",
    "\n",
    "plt.figure(figsize=(10, 6))\n",
    "plt.plot(t_numpy, y_true, 'b-', label='True Solution')\n",
    "plt.plot(t_numpy, y_mlp, 'r--', label='MLP Solution')\n",
    "plt.plot(t_numpy, y_kan, 'g--', label='KAN Solution')\n",
    "plt.legend()\n",
    "plt.xlabel('t')\n",
    "plt.ylabel('y')\n",
    "plt.title('Comparison of Solutions: y\\' = -y, y(0) = 1')\n",
    "plt.grid(True)\n",
    "plt.show()"
   ]
  },
  {
   "cell_type": "code",
   "execution_count": 18,
   "id": "a545791b-1a4e-4983-ace4-08e68ce0bd03",
   "metadata": {},
   "outputs": [
    {
     "name": "stdout",
     "output_type": "stream",
     "text": [
      "MLP MSE: 0.000003\n",
      "KAN MSE: 0.000000\n",
      "\n",
      "Differential equation error (MLP): 0.000035\n",
      "Differential equation error (KAN): 0.000009\n"
     ]
    }
   ],
   "source": [
    "\n",
    "# Вычисление ошибок\n",
    "mlp_error = np.mean((y_true - y_mlp)**2)\n",
    "kan_error = np.mean((y_true - y_kan)**2)\n",
    "print(f'MLP MSE: {mlp_error:.6f}')\n",
    "print(f'KAN MSE: {kan_error:.6f}')\n",
    "\n",
    "# Проверка точности удовлетворения дифференциального уравнения\n",
    "t_test = torch.linspace(0, 5, 1000).reshape(-1, 1)\n",
    "t_test.requires_grad_(True)\n",
    "\n",
    "# Проверка для MLP\n",
    "y_mlp_test = mlp_model(t_test)\n",
    "dy_dt_mlp = torch.autograd.grad(y_mlp_test.sum(), t_test, create_graph=True)[0]\n",
    "eq_error_mlp = torch.mean((dy_dt_mlp + y_mlp_test)**2).item()\n",
    "\n",
    "# Проверка для KAN\n",
    "y_kan_test = kan_model(t_test)\n",
    "dy_dt_kan = torch.autograd.grad(y_kan_test.sum(), t_test, create_graph=True)[0]\n",
    "eq_error_kan = torch.mean((dy_dt_kan + y_kan_test)**2).item()\n",
    "\n",
    "print(f'\\nDifferential equation error (MLP): {eq_error_mlp:.6f}')\n",
    "print(f'Differential equation error (KAN): {eq_error_kan:.6f}')"
   ]
  },
  {
   "cell_type": "code",
   "execution_count": 20,
   "id": "caf5a519-408a-46d8-ba98-b9a944005f93",
   "metadata": {},
   "outputs": [
    {
     "data": {
      "image/png": "[encoded data removed]",
      "text/plain": [
       "<Figure size 500x600 with 23 Axes>"
      ]
     },
     "metadata": {},
     "output_type": "display_data"
    }
   ],
   "source": [
    "kan_model.net.plot()"
   ]
  },
  {
   "cell_type": "code",
   "execution_count": null,
   "id": "bb7b6e47-e74c-47c2-9852-977b2d7f475d",
   "metadata": {},
   "outputs": [],
   "source": []
  }
 ],
 "metadata": {
  "kernelspec": {
   "display_name": "Python 3 (ipykernel)",
   "language": "python",
   "name": "python3"
  },
  "language_info": {
   "codemirror_mode": {
    "name": "ipython",
    "version": 3
   },
   "file_extension": ".py",
   "mimetype": "text/x-python",
   "name": "python",
   "nbconvert_exporter": "python",
   "pygments_lexer": "ipython3",
   "version": "3.12.4"
  }
 },
 "nbformat": 4,
 "nbformat_minor": 5
}
