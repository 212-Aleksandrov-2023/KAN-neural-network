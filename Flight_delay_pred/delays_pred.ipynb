{
 "cells": [
  {
   "cell_type": "code",
   "execution_count": 1,
   "id": "ea7c9dae-891c-46a5-a7fd-6cb32765b70e",
   "metadata": {},
   "outputs": [],
   "source": [
    "import numpy as np # linear algebra\n",
    "import pandas as pd\n",
    "import matplotlib.pyplot as plt\n",
    "from sklearn import preprocessing\n",
    "from sklearn.model_selection import train_test_split\n",
    "from kan import *"
   ]
  },
  {
   "cell_type": "code",
   "execution_count": 3,
   "id": "45f0bef1-e600-4283-9e88-7304cf5789b8",
   "metadata": {},
   "outputs": [
    {
     "data": {
      "text/html": [
       "<div>\n",
       "<style scoped>\n",
       "    .dataframe tbody tr th:only-of-type {\n",
       "        vertical-align: middle;\n",
       "    }\n",
       "\n",
       "    .dataframe tbody tr th {\n",
       "        vertical-align: top;\n",
       "    }\n",
       "\n",
       "    .dataframe thead th {\n",
       "        text-align: right;\n",
       "    }\n",
       "</style>\n",
       "<table border=\"1\" class=\"dataframe\">\n",
       "  <thead>\n",
       "    <tr style=\"text-align: right;\">\n",
       "      <th></th>\n",
       "      <th>Previous_Arrival</th>\n",
       "      <th>Previous_Delay</th>\n",
       "      <th>YEAR</th>\n",
       "      <th>MONTH</th>\n",
       "      <th>DAY</th>\n",
       "      <th>DAY_OF_WEEK</th>\n",
       "      <th>AIRLINE</th>\n",
       "      <th>SCHEDULED_DEPARTURE</th>\n",
       "      <th>SCHEDULED_TIME</th>\n",
       "      <th>DISTANCE</th>\n",
       "      <th>SCHEDULED_ARRIVAL</th>\n",
       "      <th>ARRIVAL_DELAY</th>\n",
       "      <th>Ground_Time</th>\n",
       "    </tr>\n",
       "  </thead>\n",
       "  <tbody>\n",
       "    <tr>\n",
       "      <th>0</th>\n",
       "      <td>0.0</td>\n",
       "      <td>0.0</td>\n",
       "      <td>2015</td>\n",
       "      <td>2</td>\n",
       "      <td>4</td>\n",
       "      <td>3</td>\n",
       "      <td>UA</td>\n",
       "      <td>548.0</td>\n",
       "      <td>172.0</td>\n",
       "      <td>1208</td>\n",
       "      <td>780.0</td>\n",
       "      <td>-5.0</td>\n",
       "      <td>0.0</td>\n",
       "    </tr>\n",
       "    <tr>\n",
       "      <th>1</th>\n",
       "      <td>780.0</td>\n",
       "      <td>-5.0</td>\n",
       "      <td>2015</td>\n",
       "      <td>3</td>\n",
       "      <td>12</td>\n",
       "      <td>4</td>\n",
       "      <td>UA</td>\n",
       "      <td>596.0</td>\n",
       "      <td>94.0</td>\n",
       "      <td>337</td>\n",
       "      <td>630.0</td>\n",
       "      <td>-1.0</td>\n",
       "      <td>1256.0</td>\n",
       "    </tr>\n",
       "    <tr>\n",
       "      <th>2</th>\n",
       "      <td>630.0</td>\n",
       "      <td>-1.0</td>\n",
       "      <td>2015</td>\n",
       "      <td>4</td>\n",
       "      <td>30</td>\n",
       "      <td>4</td>\n",
       "      <td>UA</td>\n",
       "      <td>770.0</td>\n",
       "      <td>128.0</td>\n",
       "      <td>787</td>\n",
       "      <td>1018.0</td>\n",
       "      <td>-9.0</td>\n",
       "      <td>140.0</td>\n",
       "    </tr>\n",
       "    <tr>\n",
       "      <th>3</th>\n",
       "      <td>1018.0</td>\n",
       "      <td>-9.0</td>\n",
       "      <td>2015</td>\n",
       "      <td>5</td>\n",
       "      <td>8</td>\n",
       "      <td>5</td>\n",
       "      <td>UA</td>\n",
       "      <td>1072.0</td>\n",
       "      <td>168.0</td>\n",
       "      <td>925</td>\n",
       "      <td>1180.0</td>\n",
       "      <td>16.0</td>\n",
       "      <td>54.0</td>\n",
       "    </tr>\n",
       "    <tr>\n",
       "      <th>4</th>\n",
       "      <td>1180.0</td>\n",
       "      <td>16.0</td>\n",
       "      <td>2015</td>\n",
       "      <td>7</td>\n",
       "      <td>29</td>\n",
       "      <td>3</td>\n",
       "      <td>UA</td>\n",
       "      <td>640.0</td>\n",
       "      <td>167.0</td>\n",
       "      <td>1005</td>\n",
       "      <td>867.0</td>\n",
       "      <td>-7.0</td>\n",
       "      <td>900.0</td>\n",
       "    </tr>\n",
       "  </tbody>\n",
       "</table>\n",
       "</div>"
      ],
      "text/plain": [
       "   Previous_Arrival  Previous_Delay  YEAR  MONTH  DAY  DAY_OF_WEEK AIRLINE  \\\n",
       "0               0.0             0.0  2015      2    4            3      UA   \n",
       "1             780.0            -5.0  2015      3   12            4      UA   \n",
       "2             630.0            -1.0  2015      4   30            4      UA   \n",
       "3            1018.0            -9.0  2015      5    8            5      UA   \n",
       "4            1180.0            16.0  2015      7   29            3      UA   \n",
       "\n",
       "   SCHEDULED_DEPARTURE  SCHEDULED_TIME  DISTANCE  SCHEDULED_ARRIVAL  \\\n",
       "0                548.0           172.0      1208              780.0   \n",
       "1                596.0            94.0       337              630.0   \n",
       "2                770.0           128.0       787             1018.0   \n",
       "3               1072.0           168.0       925             1180.0   \n",
       "4                640.0           167.0      1005              867.0   \n",
       "\n",
       "   ARRIVAL_DELAY  Ground_Time  \n",
       "0           -5.0          0.0  \n",
       "1           -1.0       1256.0  \n",
       "2           -9.0        140.0  \n",
       "3           16.0         54.0  \n",
       "4           -7.0        900.0  "
      ]
     },
     "execution_count": 3,
     "metadata": {},
     "output_type": "execute_result"
    }
   ],
   "source": [
    "df = pd.read_csv(\"delays.csv\")\n",
    "df.head()"
   ]
  },
  {
   "cell_type": "code",
   "execution_count": 13,
   "id": "e62dedc7-ede3-4ffe-b5c8-3a3545bdff78",
   "metadata": {},
   "outputs": [],
   "source": [
    "df.drop([\"AIRLINE\"], axis= 1 , inplace= True)"
   ]
  },
  {
   "cell_type": "code",
   "execution_count": 15,
   "id": "375a19ad-c2fa-4724-a77c-f9b993819286",
   "metadata": {},
   "outputs": [
    {
     "data": {
      "text/html": [
       "<div>\n",
       "<style scoped>\n",
       "    .dataframe tbody tr th:only-of-type {\n",
       "        vertical-align: middle;\n",
       "    }\n",
       "\n",
       "    .dataframe tbody tr th {\n",
       "        vertical-align: top;\n",
       "    }\n",
       "\n",
       "    .dataframe thead th {\n",
       "        text-align: right;\n",
       "    }\n",
       "</style>\n",
       "<table border=\"1\" class=\"dataframe\">\n",
       "  <thead>\n",
       "    <tr style=\"text-align: right;\">\n",
       "      <th></th>\n",
       "      <th>Previous_Arrival</th>\n",
       "      <th>Previous_Delay</th>\n",
       "      <th>YEAR</th>\n",
       "      <th>MONTH</th>\n",
       "      <th>DAY</th>\n",
       "      <th>DAY_OF_WEEK</th>\n",
       "      <th>SCHEDULED_DEPARTURE</th>\n",
       "      <th>SCHEDULED_TIME</th>\n",
       "      <th>DISTANCE</th>\n",
       "      <th>SCHEDULED_ARRIVAL</th>\n",
       "      <th>ARRIVAL_DELAY</th>\n",
       "      <th>Ground_Time</th>\n",
       "    </tr>\n",
       "  </thead>\n",
       "  <tbody>\n",
       "    <tr>\n",
       "      <th>0</th>\n",
       "      <td>0.0</td>\n",
       "      <td>0.0</td>\n",
       "      <td>2015</td>\n",
       "      <td>2</td>\n",
       "      <td>4</td>\n",
       "      <td>3</td>\n",
       "      <td>548.0</td>\n",
       "      <td>172.0</td>\n",
       "      <td>1208</td>\n",
       "      <td>780.0</td>\n",
       "      <td>-5.0</td>\n",
       "      <td>0.0</td>\n",
       "    </tr>\n",
       "    <tr>\n",
       "      <th>1</th>\n",
       "      <td>780.0</td>\n",
       "      <td>-5.0</td>\n",
       "      <td>2015</td>\n",
       "      <td>3</td>\n",
       "      <td>12</td>\n",
       "      <td>4</td>\n",
       "      <td>596.0</td>\n",
       "      <td>94.0</td>\n",
       "      <td>337</td>\n",
       "      <td>630.0</td>\n",
       "      <td>-1.0</td>\n",
       "      <td>1256.0</td>\n",
       "    </tr>\n",
       "    <tr>\n",
       "      <th>2</th>\n",
       "      <td>630.0</td>\n",
       "      <td>-1.0</td>\n",
       "      <td>2015</td>\n",
       "      <td>4</td>\n",
       "      <td>30</td>\n",
       "      <td>4</td>\n",
       "      <td>770.0</td>\n",
       "      <td>128.0</td>\n",
       "      <td>787</td>\n",
       "      <td>1018.0</td>\n",
       "      <td>-9.0</td>\n",
       "      <td>140.0</td>\n",
       "    </tr>\n",
       "    <tr>\n",
       "      <th>3</th>\n",
       "      <td>1018.0</td>\n",
       "      <td>-9.0</td>\n",
       "      <td>2015</td>\n",
       "      <td>5</td>\n",
       "      <td>8</td>\n",
       "      <td>5</td>\n",
       "      <td>1072.0</td>\n",
       "      <td>168.0</td>\n",
       "      <td>925</td>\n",
       "      <td>1180.0</td>\n",
       "      <td>16.0</td>\n",
       "      <td>54.0</td>\n",
       "    </tr>\n",
       "    <tr>\n",
       "      <th>4</th>\n",
       "      <td>1180.0</td>\n",
       "      <td>16.0</td>\n",
       "      <td>2015</td>\n",
       "      <td>7</td>\n",
       "      <td>29</td>\n",
       "      <td>3</td>\n",
       "      <td>640.0</td>\n",
       "      <td>167.0</td>\n",
       "      <td>1005</td>\n",
       "      <td>867.0</td>\n",
       "      <td>-7.0</td>\n",
       "      <td>900.0</td>\n",
       "    </tr>\n",
       "  </tbody>\n",
       "</table>\n",
       "</div>"
      ],
      "text/plain": [
       "   Previous_Arrival  Previous_Delay  YEAR  MONTH  DAY  DAY_OF_WEEK  \\\n",
       "0               0.0             0.0  2015      2    4            3   \n",
       "1             780.0            -5.0  2015      3   12            4   \n",
       "2             630.0            -1.0  2015      4   30            4   \n",
       "3            1018.0            -9.0  2015      5    8            5   \n",
       "4            1180.0            16.0  2015      7   29            3   \n",
       "\n",
       "   SCHEDULED_DEPARTURE  SCHEDULED_TIME  DISTANCE  SCHEDULED_ARRIVAL  \\\n",
       "0                548.0           172.0      1208              780.0   \n",
       "1                596.0            94.0       337              630.0   \n",
       "2                770.0           128.0       787             1018.0   \n",
       "3               1072.0           168.0       925             1180.0   \n",
       "4                640.0           167.0      1005              867.0   \n",
       "\n",
       "   ARRIVAL_DELAY  Ground_Time  \n",
       "0           -5.0          0.0  \n",
       "1           -1.0       1256.0  \n",
       "2           -9.0        140.0  \n",
       "3           16.0         54.0  \n",
       "4           -7.0        900.0  "
      ]
     },
     "execution_count": 15,
     "metadata": {},
     "output_type": "execute_result"
    }
   ],
   "source": [
    "df.head()"
   ]
  },
  {
   "cell_type": "code",
   "execution_count": 23,
   "id": "de0fd90f-615c-43f8-936d-70a3f3de1c83",
   "metadata": {},
   "outputs": [
    {
     "name": "stderr",
     "output_type": "stream",
     "text": [
      "C:\\Users\\akiri\\AppData\\Local\\Temp\\ipykernel_2476\\321698353.py:6: FutureWarning: Downcasting behavior in `replace` is deprecated and will be removed in a future version. To retain the old behavior, explicitly call `result.infer_objects(copy=False)`. To opt-in to the future behavior, set `pd.set_option('future.no_silent_downcasting', True)`\n",
      "  y = y.replace({True:1,False:0})\n"
     ]
    },
    {
     "data": {
      "text/plain": [
       "0        0\n",
       "1        0\n",
       "2        0\n",
       "3        1\n",
       "4        0\n",
       "        ..\n",
       "57970    0\n",
       "57971    1\n",
       "57972    1\n",
       "57973    1\n",
       "57974    0\n",
       "Name: ARRIVAL_DELAY, Length: 57975, dtype: int64"
      ]
     },
     "execution_count": 23,
     "metadata": {},
     "output_type": "execute_result"
    }
   ],
   "source": [
    "from sklearn.preprocessing import StandardScaler\n",
    "scaler = StandardScaler()\n",
    "X = df.drop([\"ARRIVAL_DELAY\"], axis= 1)\n",
    "y = df[\"ARRIVAL_DELAY\"]\n",
    "y = y> 15\n",
    "y = y.replace({True:1,False:0})\n",
    "y"
   ]
  },
  {
   "cell_type": "code",
   "execution_count": 25,
   "id": "759d4235-84f7-417c-8cea-0710fb11c7f1",
   "metadata": {},
   "outputs": [],
   "source": [
    "X_train, X_test, y_train, y_test = train_test_split(\n",
    "    X, y, test_size=0.33, random_state=42)\n",
    "X_train_scaled = scaler.fit_transform(X_train)\n",
    "X_test_scaled = scaler.transform(X_test)"
   ]
  },
  {
   "cell_type": "code",
   "execution_count": 27,
   "id": "585db4f0-9366-4ca2-a998-34c4d67db25d",
   "metadata": {},
   "outputs": [],
   "source": [
    "import torch.nn as nn\n",
    "dataset = {}\n",
    "dtype = torch.get_default_dtype()\n",
    "dataset['train_input'] = torch.from_numpy(X_train_scaled).type(dtype)\n",
    "dataset['test_input'] = torch.from_numpy(X_test_scaled).type(dtype)\n",
    "dataset['train_label'] = torch.from_numpy(y_train.to_numpy()).type(torch.long)\n",
    "dataset['test_label'] = torch.from_numpy(y_test.to_numpy()).type(torch.long)"
   ]
  },
  {
   "cell_type": "code",
   "execution_count": 31,
   "id": "c58d75d0-8256-40d0-b29d-568ff030b349",
   "metadata": {},
   "outputs": [
    {
     "name": "stdout",
     "output_type": "stream",
     "text": [
      "checkpoint directory created: ./model\n",
      "saving model version 0.0\n"
     ]
    },
    {
     "name": "stderr",
     "output_type": "stream",
     "text": [
      "| train_loss: 6.49e-01 | test_loss: 6.81e-01 | reg: 5.85e+01 | : 100%|█| 20/20 [09:53<00:00, 29.67s/"
     ]
    },
    {
     "name": "stdout",
     "output_type": "stream",
     "text": [
      "saving model version 0.1\n"
     ]
    },
    {
     "name": "stderr",
     "output_type": "stream",
     "text": [
      "\n"
     ]
    }
   ],
   "source": [
    "model = KAN(width=[11,13,2], grid =4, k = 3, seed=2024)\n",
    "def train_acc():\n",
    "    return torch.mean((torch.argmax(model(dataset['train_input']), dim=1) == dataset['train_label']).type(dtype))\n",
    "\n",
    "def test_acc():\n",
    "    return torch.mean((torch.argmax(model(dataset['test_input']), dim=1) == dataset['test_label']).type(dtype))\n",
    "results = model.fit(dataset, opt=\"LBFGS\", steps=20,metrics=(train_acc, test_acc), loss_fn=torch.nn.CrossEntropyLoss());"
   ]
  },
  {
   "cell_type": "code",
   "execution_count": 61,
   "id": "7550dabf-d703-4c26-82e1-9e4d94ae948f",
   "metadata": {},
   "outputs": [
    {
     "name": "stdout",
     "output_type": "stream",
     "text": [
      "train_acc\n",
      "tensor(0.8268)\n"
     ]
    }
   ],
   "source": [
    "print(\"train_acc\")\n",
    "print(torch.mean((torch.argmax(model(dataset['train_input']), dim=1) == dataset['train_label']).type(dtype)))"
   ]
  },
  {
   "cell_type": "code",
   "execution_count": 63,
   "id": "96b74433-7f8c-499c-ad63-c8ebc40b7922",
   "metadata": {},
   "outputs": [
    {
     "name": "stdout",
     "output_type": "stream",
     "text": [
      "test_acc\n",
      "tensor(0.8202)\n"
     ]
    }
   ],
   "source": [
    "print(\"test_acc\")\n",
    "print(torch.mean((torch.argmax(model(dataset['test_input']), dim=1) == dataset['test_label']).type(dtype)))"
   ]
  },
  {
   "cell_type": "code",
   "execution_count": 65,
   "id": "ad8d13ea-4701-4031-aa3b-e1848dddd8c8",
   "metadata": {},
   "outputs": [
    {
     "name": "stdout",
     "output_type": "stream",
     "text": [
      "unique_v: tensor([0, 1])\n",
      "amount: tensor([38387,   456])\n"
     ]
    }
   ],
   "source": [
    "unique_values , amount = torch.unique(torch.argmax(model(dataset['train_input']), dim=1) , return_counts=True)\n",
    "print(f\"unique_v: {unique_values}\")\n",
    "print(f\"amount: {amount}\")"
   ]
  },
  {
   "cell_type": "code",
   "execution_count": null,
   "id": "723d4de2-6d69-49a9-8d17-d022cc1691a3",
   "metadata": {},
   "outputs": [],
   "source": []
  }
 ],
 "metadata": {
  "kernelspec": {
   "display_name": "Python 3 (ipykernel)",
   "language": "python",
   "name": "python3"
  },
  "language_info": {
   "codemirror_mode": {
    "name": "ipython",
    "version": 3
   },
   "file_extension": ".py",
   "mimetype": "text/x-python",
   "name": "python",
   "nbconvert_exporter": "python",
   "pygments_lexer": "ipython3",
   "version": "3.12.4"
  }
 },
 "nbformat": 4,
 "nbformat_minor": 5
}
