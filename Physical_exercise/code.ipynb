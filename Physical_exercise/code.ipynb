{
 "cells": [
  {
   "cell_type": "markdown",
   "id": "4d5c0cd6-864f-4d48-aed1-0ccb1986fb5f",
   "metadata": {},
   "source": [
    "Применение KAN к датасету "
   ]
  },
  {
   "cell_type": "code",
   "execution_count": 40,
   "id": "49ef53ae-3f6a-45e7-8886-d8023aaebfb2",
   "metadata": {},
   "outputs": [],
   "source": [
    "import numpy as np \n",
    "import pandas as pd \n",
    "import matplotlib.pyplot as plt\n",
    "from sklearn.model_selection import train_test_split\n",
    "from sklearn.preprocessing import LabelEncoder\n",
    "\n",
    "df = pd.read_csv(\"exercise_angles.csv\")\n",
    "df.head()\n",
    "df_encoded = pd.get_dummies(df, columns=['Side'], drop_first=True)\n",
    "label_encoder = LabelEncoder()\n",
    "df_encoded['Label'] = label_encoder.fit_transform(df_encoded['Label'])\n",
    "X = df_encoded.drop('Label', axis=1)\n",
    "y = df_encoded['Label']\n",
    "\n",
    "X_train, X_test, y_train, y_test = train_test_split(\n",
    "    X, y, test_size=0.2, random_state=42, stratify=y\n",
    ")"
   ]
  },
  {
   "cell_type": "code",
   "execution_count": 42,
   "id": "0efff9c5-adf5-45a6-b673-851fa2938e26",
   "metadata": {},
   "outputs": [
    {
     "data": {
      "text/plain": [
       "Label\n",
       "2    9764\n",
       "1    6659\n",
       "0    5209\n",
       "4    4997\n",
       "3    4404\n",
       "Name: count, dtype: int64"
      ]
     },
     "execution_count": 42,
     "metadata": {},
     "output_type": "execute_result"
    }
   ],
   "source": [
    "from kan import *\n",
    "import torch.nn as nn\n",
    "dataset = {}\n",
    "dtype = torch.get_default_dtype()\n",
    "dataset['train_input'] = torch.from_numpy(X_train.to_numpy()).type(dtype)\n",
    "dataset['test_input'] = torch.from_numpy(X_test.to_numpy()).type(dtype)\n",
    "dataset['train_label'] = torch.from_numpy(y_train.to_numpy()).type(torch.long)\n",
    "dataset['test_label'] = torch.from_numpy(y_test.to_numpy()).type(torch.long)\n",
    "y.value_counts()"
   ]
  },
  {
   "cell_type": "code",
   "execution_count": 56,
   "id": "76af8b40-c47d-4e3e-9314-f21821aa4a14",
   "metadata": {},
   "outputs": [
    {
     "name": "stdout",
     "output_type": "stream",
     "text": [
      "checkpoint directory created: ./model\n",
      "saving model version 0.0\n"
     ]
    },
    {
     "name": "stderr",
     "output_type": "stream",
     "text": [
      "| train_loss: 6.50e-01 | test_loss: 6.56e-01 | reg: 3.93e+01 | : 100%|█| 20/20 [07:06<00:00, 21.32s/"
     ]
    },
    {
     "name": "stdout",
     "output_type": "stream",
     "text": [
      "saving model version 0.1\n"
     ]
    },
    {
     "name": "stderr",
     "output_type": "stream",
     "text": [
      "\n"
     ]
    }
   ],
   "source": [
    "model = KAN(width=[10,15,5], grid =5, k = 3, seed=2024)\n",
    "def train_acc():\n",
    "    return torch.mean((torch.argmax(model(dataset['train_input']), dim=1) == dataset['train_label']).type(dtype))\n",
    "\n",
    "def test_acc():\n",
    "    return torch.mean((torch.argmax(model(dataset['test_input']), dim=1) == dataset['test_label']).type(dtype))\n",
    "results = model.fit(dataset, opt=\"LBFGS\", steps=20,metrics=(train_acc, test_acc), loss_fn=torch.nn.CrossEntropyLoss());"
   ]
  },
  {
   "cell_type": "code",
   "execution_count": 58,
   "id": "b0314a52-e577-4b31-918c-eab189cea8ac",
   "metadata": {},
   "outputs": [
    {
     "name": "stdout",
     "output_type": "stream",
     "text": [
      "train_acc\n",
      "tensor(0.8654)\n"
     ]
    }
   ],
   "source": [
    "print(\"train_acc\")\n",
    "print(torch.mean((torch.argmax(model(dataset['train_input']), dim=1) == dataset['train_label']).type(dtype)))"
   ]
  },
  {
   "cell_type": "code",
   "execution_count": 60,
   "id": "46b8371f-f0a3-4564-96ad-a53e81559681",
   "metadata": {},
   "outputs": [
    {
     "name": "stdout",
     "output_type": "stream",
     "text": [
      "test_acc\n",
      "tensor(0.8653)\n"
     ]
    }
   ],
   "source": [
    "print(\"test_acc\")\n",
    "print(torch.mean((torch.argmax(model(dataset['test_input']), dim=1) == dataset['test_label']).type(dtype)))"
   ]
  },
  {
   "cell_type": "code",
   "execution_count": 50,
   "id": "2a780c73-88fd-432e-845d-1a4158c21d88",
   "metadata": {},
   "outputs": [
    {
     "name": "stdout",
     "output_type": "stream",
     "text": [
      "checkpoint directory created: ./model\n",
      "saving model version 0.0\n"
     ]
    },
    {
     "name": "stderr",
     "output_type": "stream",
     "text": [
      "| train_loss: 7.82e-01 | test_loss: 7.86e-01 | reg: 7.33e+01 | : 100%|█| 20/20 [10:37<00:00, 31.87s/"
     ]
    },
    {
     "name": "stdout",
     "output_type": "stream",
     "text": [
      "saving model version 0.1\n"
     ]
    },
    {
     "name": "stderr",
     "output_type": "stream",
     "text": [
      "\n"
     ]
    }
   ],
   "source": [
    "model1 = KAN(width=[10,15,3,5], grid =4, k = 3, seed=2024)\n",
    "results1 = model1.fit(dataset, opt=\"LBFGS\", steps=20,metrics=(train_acc, test_acc), loss_fn=torch.nn.CrossEntropyLoss());"
   ]
  },
  {
   "cell_type": "code",
   "execution_count": 52,
   "id": "29accbda-bc92-4b9e-961a-a6aefcf5a508",
   "metadata": {},
   "outputs": [
    {
     "name": "stdout",
     "output_type": "stream",
     "text": [
      "train_acc\n",
      "tensor(0.7965)\n"
     ]
    }
   ],
   "source": [
    "print(\"train_acc\")\n",
    "print(torch.mean((torch.argmax(model1(dataset['train_input']), dim=1) == dataset['train_label']).type(dtype)))"
   ]
  },
  {
   "cell_type": "code",
   "execution_count": 54,
   "id": "36c27fc4-e35a-4126-8ad0-6e034db49ec4",
   "metadata": {},
   "outputs": [
    {
     "name": "stdout",
     "output_type": "stream",
     "text": [
      "test_acc\n",
      "tensor(0.8020)\n"
     ]
    }
   ],
   "source": [
    "print(\"test_acc\")\n",
    "print(torch.mean((torch.argmax(model1(dataset['test_input']), dim=1) == dataset['test_label']).type(dtype)))"
   ]
  },
  {
   "cell_type": "code",
   "execution_count": null,
   "id": "423b4d58-7513-43bc-8cba-2a3ea2928786",
   "metadata": {},
   "outputs": [],
   "source": []
  }
 ],
 "metadata": {
  "kernelspec": {
   "display_name": "Python 3 (ipykernel)",
   "language": "python",
   "name": "python3"
  },
  "language_info": {
   "codemirror_mode": {
    "name": "ipython",
    "version": 3
   },
   "file_extension": ".py",
   "mimetype": "text/x-python",
   "name": "python",
   "nbconvert_exporter": "python",
   "pygments_lexer": "ipython3",
   "version": "3.12.4"
  }
 },
 "nbformat": 4,
 "nbformat_minor": 5
}
